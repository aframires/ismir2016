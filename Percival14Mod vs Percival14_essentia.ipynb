{
 "cells": [
  {
   "cell_type": "code",
   "execution_count": 1,
   "metadata": {
    "collapsed": false
   },
   "outputs": [
    {
     "name": "stderr",
     "output_type": "stream",
     "text": [
      "/usr/local/lib/python2.7/site-packages/matplotlib/__init__.py:872: UserWarning: axes.color_cycle is deprecated and replaced with axes.prop_cycle; please use the latter.\n",
      "  warnings.warn(self.msg_depr % (key, alt_key))\n"
     ]
    }
   ],
   "source": [
    "from shared_notebook_utils import *\n",
    "datasets = load_datasets(dirnames=['freesound_loops_db_4000'], clean=True)\n",
    "dataset = datasets[0]\n",
    "methods_to_compare = ['Percival14_essentia', 'Percival14Mod']\n",
    "%matplotlib inline\n",
    "\n",
    "# This notebook contains expriments that complement those found in the article: Font, F., & Serra, X. (2016). Tempo Estimation for Music Loops and a Simple Confidence Measure. In Proceedings of the Int. Conf. on Music Information Retrieval (ISMIR).\n",
    "# License: CC-BY-4.0"
   ]
  },
  {
   "cell_type": "code",
   "execution_count": 68,
   "metadata": {
    "collapsed": false
   },
   "outputs": [
    {
     "data": {
      "image/png": "[encoded data removed]",
      "text/plain": [
       "<matplotlib.figure.Figure at 0x10d19e510>"
      ]
     },
     "metadata": {},
     "output_type": "display_data"
    },
    {
     "name": "stdout",
     "output_type": "stream",
     "text": [
      "(ROUNDED) 1179 produce different results, 2764 produce same results (29.90% different)\n",
      "(FLOAT, 0.1 max dif) 1458 produce different results, 2485 produce same results (36.98% different)\n"
     ]
    }
   ],
   "source": [
    "# Evaluate how differnt the ouputs of the two algorithms are\n",
    "bpm_round_diffs = list()\n",
    "bpm_diffs = list()\n",
    "for sound in dataset.data.values():\n",
    "    try:\n",
    "        percival14mod_bpm = sound['analysis']['Percival14Mod']['bpm']\n",
    "        percival14essentia_bpm = sound['analysis']['Percival14_essentia']['bpm']\n",
    "        bpm_round_diffs.append(round(percival14mod_bpm) - round(percival14essentia_bpm))\n",
    "        bpm_diffs.append(percival14mod_bpm - percival14essentia_bpm)\n",
    "    except KeyError:\n",
    "        # Loop could not be analysed with both algorithms, continue\n",
    "        continue\n",
    "\n",
    "fig1, axs = plt.subplots(1, 1, figsize=(17, 5))\n",
    "plt.hist([abs(i) for i in bpm_round_diffs], bins=50, range=(0,50))\n",
    "plt.show()\n",
    "\n",
    "# Considering rounded bpms\n",
    "n_different = len(np.where(np.array([abs(i) for i in bpm_round_diffs])>0)[0])\n",
    "n_same = len(np.where(np.array([abs(i) for i in bpm_round_diffs])==0)[0])\n",
    "print '(ROUNDED) %i produce different results, %i produce same results (%.2f%% different)' % (n_different, n_same, 100.0*(n_different)/(n_different+n_same))\n",
    "\n",
    "# Considering float bpms\n",
    "n_different = len(np.where(np.array([abs(i) for i in bpm_diffs])>0.1)[0])\n",
    "n_same = len(np.where(np.array([abs(i) for i in bpm_diffs])<=0.1)[0])\n",
    "print '(FLOAT, 0.1 max dif) %i produce different results, %i produce same results (%.2f%% different)' % (n_different, n_same, 100.0*(n_different)/(n_different+n_same))\n"
   ]
  },
  {
   "cell_type": "code",
   "execution_count": null,
   "metadata": {
    "collapsed": true
   },
   "outputs": [],
   "source": []
  }
 ],
 "metadata": {
  "kernelspec": {
   "display_name": "Python 2",
   "language": "python",
   "name": "python2"
  },
  "language_info": {
   "codemirror_mode": {
    "name": "ipython",
    "version": 2
   },
   "file_extension": ".py",
   "mimetype": "text/x-python",
   "name": "python",
   "nbconvert_exporter": "python",
   "pygments_lexer": "ipython2",
   "version": "2.7.10"
  }
 },
 "nbformat": 4,
 "nbformat_minor": 0
}
