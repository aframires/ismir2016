{
 "cells": [
  {
   "cell_type": "code",
   "execution_count": 1,
   "metadata": {
    "collapsed": false,
    "scrolled": true
   },
   "outputs": [
    {
     "name": "stderr",
     "output_type": "stream",
     "text": [
      "/usr/local/lib/python2.7/site-packages/matplotlib/__init__.py:872: UserWarning: axes.color_cycle is deprecated and replaced with axes.prop_cycle; please use the latter.\n",
      "  warnings.warn(self.msg_depr % (key, alt_key))\n"
     ]
    }
   ],
   "source": [
    "from shared_notebook_utils import *\n",
    "from statsmodels.sandbox.stats.runs import mcnemar\n",
    "# Add the datasets you want to analyze in 'dataset_dirnames'\n",
    "# In this repository we include an example 'toy_dataset' that can be used to test the notebook.\n",
    "dataset_dirnames = ['toy_dataset'] \n",
    "datasets = load_datasets(dirnames=dataset_dirnames, clean=True)  # Load and clean datasets\n",
    "# Add the datasets you want to analyze in 'methods_to_compare'\n",
    "methods_to_compare = ['Percival14', 'Zapata14', 'Degara12', 'Bock15', 'Gkiokasq8', 'RekBox']\n",
    "%matplotlib inline\n",
    "\n",
    "# This notebook contains excerpts from the article: Font, F., & Serra, X. (2016). Tempo Estimation for Music Loops and a Simple Confidence Measure. In Proceedings of the Int. Conf. on Music Information Retrieval (ISMIR).\n",
    "# License: CC-BY-4.0"
   ]
  },
  {
   "cell_type": "markdown",
   "metadata": {},
   "source": [
    "## Overall tempo estimation accuracy\n",
    "\n",
    "Similarly to previous tempo estimation works, we follow the methodology described by Gouyon et al. [1] to test the aforementioned algorithms against the four collected datasets. \n",
    "In addition the standard *Accuracy 1* and *Accuracy 2* measures (with 4% tolerance), we add an extra measure that we call *Accuracy 1e* and that represents the percentage of instances whose estimated BPM is exactly the same as the ground truth after rounding the estimated BPM to the nearest integer. Accuracy 1e is therefore more strict than Accuracy 1.\n",
    "The reason why we added this extra accuracy measure is that, imagining a music creation context where loops can be queried in a database, it is of special relevance to get returned instances whose BPM exactly matches that specified as target.\n",
    "\n",
    "The overall accuracy results show that Percival14 obtains the highest accuracy scores for all accuracy measures and all datasets except for the LOOP dataset, in which highest score for Accuracy 1 is obtained by Zapata14 (see Figure 1 in the cell below). Considering the data from all datasets at once, mean accuracy values for Percival14 range from 47% (Accuracy 1e) to 73% (Accuracy 2), with an average increase of 7% accuracy when compared with the second best-scored method. With a few exceptions, pairwise accuracy differences between Percival14 and the second best-scored method in all datasets and accuracy measures are statistically significant using McNemar's test and a significance value of $\\alpha=0.01$ (i.e.,~$p \\ll 0.01$). \n",
    "We also observe that accuracies for the APPL dataset tend to be higher than for other datasets. This can be explained by the fact that APPL contains professionally created and curated loops, while the other datasets contain user contributed content, not necessarily created by professionals (Mixcraft's loop library also contains content gathered from online repositories).\n",
    "\n",
    "[1] Fabien Gouyon, Anssi Klapuri, Simon Dixon, Miguel Alonso, George Tzanetakis, Christian Uhle, and Pedro Cano. An Experimental Comparison ofAudio Tempo Induction Algorithms. IEEE Transactions on Audio, Speech and Language Processing, 14(5):1832–1844, 2006.\n",
    "\n"
   ]
  },
  {
   "cell_type": "code",
   "execution_count": 2,
   "metadata": {
    "collapsed": false,
    "scrolled": false
   },
   "outputs": [
    {
     "name": "stdout",
     "output_type": "stream",
     "text": [
      "\n",
      "\n",
      "General tempo estimation results (TOYDS)\n",
      "*****************************************\n",
      "\n",
      "\n",
      "Method       Accuracy 1e   Accuracy 1   Accuracy 2   \n",
      "-----------------------------------------------------\n",
      "Percival14   \u001b[36m40.00         \u001b[0m40.00        \u001b[36m80.00        \u001b[0m\n",
      "Zapata14     \u001b[36m40.00         \u001b[0m\u001b[36m60.00        \u001b[0m70.00        \n",
      "Bock15       30.00         50.00        70.00        \n",
      "RekBox       \u001b[36m40.00         \u001b[0m\u001b[36m60.00        \u001b[0m60.00        \n",
      "Degara12     20.00         40.00        50.00        \n",
      "Gkiokasq8    0.00          0.00         0.00         \n"
     ]
    },
    {
     "data": {
      "image/png": "[encoded data removed]",
      "text/plain": [
       "<matplotlib.figure.Figure at 0x1100de490>"
      ]
     },
     "metadata": {},
     "output_type": "display_data"
    },
    {
     "data": {
      "text/markdown": [
       "\n",
       "**Figure 1**: Overall tempo estimation accuracies.\n"
      ],
      "text/plain": [
       "<IPython.core.display.Markdown object>"
      ]
     },
     "metadata": {},
     "output_type": "display_data"
    },
    {
     "name": "stdout",
     "output_type": "stream",
     "text": [
      "\n",
      "General tempo estimation results (ALL DATASETS)\n",
      "-----------------------------------------------\n",
      "\n",
      "Method       Accuracy 1e   Accuracy 1   Accuracy 2   Mean accuracy   \n",
      "---------------------------------------------------------------------\n",
      "Zapata14     \u001b[36m40.00         \u001b[0m\u001b[36m60.00        \u001b[0m70.00        \u001b[36m56.67           \u001b[0m\n",
      "RekBox       \u001b[36m40.00         \u001b[0m\u001b[36m60.00        \u001b[0m60.00        53.33           \n",
      "Percival14   \u001b[36m40.00         \u001b[0m40.00        \u001b[36m80.00        \u001b[0m53.33           \n",
      "Bock15       30.00         50.00        70.00        50.00           \n",
      "Degara12     20.00         40.00        50.00        36.67           \n",
      "Gkiokasq8    0.00          0.00         0.00         0.00            \n"
     ]
    }
   ],
   "source": [
    "# Prepare figure\n",
    "n_datasets = len(datasets)\n",
    "if not n_datasets:\n",
    "    raise Exception(\"No datasets were specified or could be loaded!\")\n",
    "nrows = int(math.ceil(float(n_datasets)/2))\n",
    "ncols = 1 if n_datasets < 2 else 2\n",
    "fig1, axs = plt.subplots(nrows, ncols, figsize=(17, 5))\n",
    "\n",
    "# Run analysis and plot results\n",
    "all_datasets_method_results = dict()\n",
    "for count, dataset in enumerate(datasets):\n",
    "    print title(\"\\nGeneral tempo estimation results (%s)\" % dataset.short_name, c='*')\n",
    "    methods_to_compare = methods_to_compare\n",
    "    table_header = ['Method', 'Accuracy 1e', 'Accuracy 1', 'Accuracy 2']\n",
    "    table_rows = list()\n",
    "\n",
    "    for method in methods_to_compare:\n",
    "        if method not in all_datasets_method_results:\n",
    "            all_datasets_method_results[method] = dict()\n",
    "        try:\n",
    "            table_row = [method]\n",
    "            for accuracy_func in accuracy1e, accuracy1, accuracy2:\n",
    "                method_results = accuracy_func(dataset.data, method)\n",
    "                table_row.append(100 * basic_statistics(method_results)['avg'])\n",
    "                if accuracy_func.__name__ not in all_datasets_method_results[method]:\n",
    "                    all_datasets_method_results[method][accuracy_func.__name__] = list()\n",
    "                all_datasets_method_results[method][accuracy_func.__name__] += method_results\n",
    "            table_rows.append(table_row)\n",
    "        except IndexError:\n",
    "            print \"Warning: Skipping method %s (analsyis not found in dataset)\" % method\n",
    "            continue\n",
    "    print \"\"\n",
    "    print_table(table_header, table_rows, sort_column=3, highlight_max=True)\n",
    "    \n",
    "    if n_datasets == 1:\n",
    "        ax = axs\n",
    "    elif n_datasets == 2:\n",
    "        ax = axs[count]\n",
    "    else:\n",
    "        ax_col=count/2\n",
    "        ax_row=count%2\n",
    "        ax = axs[ax_col,ax_row]\n",
    "        \n",
    "    N = len(methods_to_compare)\n",
    "    ind = np.arange(N)\n",
    "    accuracy_1e_means = [row[1] for row in table_rows]\n",
    "    accuracy_1_means = [row[2] for row in table_rows]\n",
    "    accuracy_2_means = [row[3] for row in table_rows]\n",
    "    width = 0.25\n",
    "    rects1 = ax.bar(ind, accuracy_1e_means, width, color=COLORS[0])\n",
    "    rects2 = ax.bar(ind + width, accuracy_1_means, width, color=COLORS[1])\n",
    "    rects3 = ax.bar(ind + 2*width, accuracy_2_means, width, color=COLORS[2])\n",
    "    ax.set_title(dataset.short_name)\n",
    "    ax.set_xticks(ind + 1.4 * width)\n",
    "    ax.set_xticklabels([method for method in methods_to_compare], rotation=0)\n",
    "    ax.legend((rects1[0], rects2[0], rects3[0]), ('Accuracy 1e', 'Accuracy 1', 'Accuracy 2'))\n",
    "    ax.set_ylabel('Accuracy (%)')\n",
    "    ax.set_ylim((0, 100))\n",
    "    ax.xaxis.grid(False)\n",
    "    \n",
    "plt.show()\n",
    "figure_caption = \"\"\"\n",
    "**Figure 1**: Overall tempo estimation accuracies.\n",
    "\"\"\"\n",
    "IPython.display.display(IPython.display.Markdown(figure_caption))\n",
    "\n",
    "# Show results for all datasets combined\n",
    "print title(\"General tempo estimation results (ALL DATASETS)\")\n",
    "table_header = ['Method', 'Accuracy 1e', 'Accuracy 1', 'Accuracy 2', 'Mean accuracy']\n",
    "table_rows = list()\n",
    "for method, results in all_datasets_method_results.items():\n",
    "    table_row = [method]\n",
    "    for accuracy_measure, data in results.items():\n",
    "        table_row.append(100 * basic_statistics(data)['avg'])\n",
    "    table_rows.append(table_row + [np.mean(table_row[1:])])\n",
    "print_table(table_header, table_rows, sort_column=4, highlight_max=True)"
   ]
  },
  {
   "cell_type": "code",
   "execution_count": 3,
   "metadata": {
    "collapsed": false,
    "scrolled": false
   },
   "outputs": [
    {
     "name": "stdout",
     "output_type": "stream",
     "text": [
      "\n",
      "\n",
      "Statistical tests for dataset TOYDS\n",
      "-----------------------------------\n",
      "\n",
      "\n",
      "Measure: accuracy1e\n",
      "             Percival14   Zapata14   Degara12   Bock15   Gkiokasq8   RekBox   \n",
      "------------------------------------------------------------------------------\n",
      "Percival14   -            0.617      0.617      1        0.134       0.683    \n",
      "Zapata14     0.617        -          0.617      1        0.134       0.48     \n",
      "Degara12     0.617        0.617      -          1        0.48        0.48     \n",
      "Bock15       1            1          1          -        0.248       1        \n",
      "Gkiokasq8    0.134        0.134      0.48       0.248    -           0.134    \n",
      "RekBox       0.683        0.48       0.48       1        0.134       -        \n",
      "\n",
      "Measure: accuracy1\n",
      "             Percival14   Zapata14   Degara12   Bock15   Gkiokasq8   RekBox   \n",
      "------------------------------------------------------------------------------\n",
      "Percival14   -            0.683      0.683      1        0.134       0.683    \n",
      "Zapata14     0.683        -          0.48       1        0.0412      0*       \n",
      "Degara12     0.683        0.48       -          1        0.134       0.48     \n",
      "Bock15       1            1          1          -        0.0736      1        \n",
      "Gkiokasq8    0.134        0.0412     0.134      0.0736   -           0.0412   \n",
      "RekBox       0.683        0*         0.48       1        0.0412      -        \n",
      "\n",
      "Measure: accuracy2\n",
      "             Percival14   Zapata14   Degara12   Bock15   Gkiokasq8   RekBox   \n",
      "------------------------------------------------------------------------------\n",
      "Percival14   -            1          0.248      1        0.0133      0.48     \n",
      "Zapata14     1            -          0.48       0.48     0.0233      1        \n",
      "Degara12     0.248        0.48       -          0.48     0.0736      1        \n",
      "Bock15       1            0.48       0.48       -        0.0233      1        \n",
      "Gkiokasq8    0.0133       0.0233     0.0736     0.0233   -           0.0412   \n",
      "RekBox       0.48         1          1          1        0.0412      -        \n"
     ]
    }
   ],
   "source": [
    "# Run pairwise statistical tests\n",
    "alpha = 0.01\n",
    "\n",
    "def compute_mcnemar_test(method1_data, method2_data):\n",
    "    stat, pvalue = mcnemar(method1_data, method2_data, exact=False)\n",
    "    if pvalue < alpha:\n",
    "        return \"%.3g*\" % pvalue\n",
    "    return \"%.3g\" % pvalue\n",
    "\n",
    "for count, dataset in enumerate(datasets):\n",
    "    print \"\"\n",
    "    print title('Statistical tests for dataset %s' % dataset.short_name)    \n",
    "    for accuracy_func in accuracy1e, accuracy1, accuracy2:\n",
    "        print '\\nMeasure: %s' % accuracy_func.__name__\n",
    "        table_header = [' '] + [method for method in methods_to_compare]\n",
    "        table_rows = list()\n",
    "        for method_a in methods_to_compare:\n",
    "            table_row = list()\n",
    "            for method_b in methods_to_compare:\n",
    "                if method_a != method_b:\n",
    "                    result = compute_mcnemar_test(accuracy_func(dataset.data, method_a), accuracy_func(dataset.data, method_b))\n",
    "                    table_row.append(result)\n",
    "                else:\n",
    "                    table_row.append('-')\n",
    "            table_rows.append([method_a] + table_row)\n",
    "        print_table(table_header, table_rows)"
   ]
  },
  {
   "cell_type": "markdown",
   "metadata": {},
   "source": [
    "## Accuracy vs confidence measure\n",
    "\n",
    "Figure 2 (see cells below) shows the accuracy of the three best-scoring tempo estimation algorithms and the number of instances remaining in the dataset when filtering by different values of a confidence threshold $\\gamma$.\n",
    "As we expected, we can see how accuracy increases with $\\gamma$ but the number of instances decreases.\n",
    "Interestingly, we observe that the number of instances decays later for estimations performed with Percival14 algorithm than for the other algorithms.\n",
    "This reflects the fact that Percival14 produces better BPM estimates."
   ]
  },
  {
   "cell_type": "code",
   "execution_count": 4,
   "metadata": {
    "collapsed": false,
    "scrolled": false
   },
   "outputs": [
    {
     "name": "stdout",
     "output_type": "stream",
     "text": [
      "Computing confidence measure values for all sounds in all datasets and for all methods... done! \n",
      "50 annotations done\n"
     ]
    }
   ],
   "source": [
    "# Confidence measure function\n",
    "# NOTE: to speed up this process here we have already precomputed the effective start and end positions \n",
    "# acocrding to the envelope\n",
    "def compute_confidence_measure(estimated_bpm,\n",
    "                       duration_samples,\n",
    "                       start_effective_duration,\n",
    "                       end_effective_duration,\n",
    "                       sample_rate=44100, beat_range=range(1, 128), k=0.5):\n",
    "    if estimated_bpm == 0:\n",
    "        # This condition is to skip computing other steps if estimated bpm is 0, we already know that the\n",
    "        # output will be 0\n",
    "        return 0\n",
    "\n",
    "    durations_to_check = [\n",
    "        duration_samples,\n",
    "        duration_samples - start_effective_duration,\n",
    "        end_effective_duration,\n",
    "        end_effective_duration - start_effective_duration\n",
    "    ]\n",
    "\n",
    "    beat_duration = (60.0 * sample_rate)/estimated_bpm\n",
    "    L = [beat_duration * n for n in beat_range]\n",
    "    thr_lambda = k * beat_duration\n",
    "    confidences = list()\n",
    "    for duration in durations_to_check:\n",
    "        delta_l = min([abs(l - duration) for l in L])\n",
    "        if delta_l > thr_lambda:\n",
    "            confidences.append(0.0)\n",
    "        else:\n",
    "            confidences.append(1.0 - float(delta_l) / thr_lambda)\n",
    "    return max(confidences)\n",
    "\n",
    "# Iterate over all instances in all datasets and for all methods\n",
    "print 'Computing confidence measure values for all sounds in all datasets and for all methods...',\n",
    "n_annotated = 0\n",
    "for dataset in datasets:\n",
    "    for key, item in dataset.data.items():\n",
    "        for method in methods_to_compare:\n",
    "            try:\n",
    "                item['analysis'][method]['confidence_ffont'] = compute_confidence_measure(\n",
    "                    int(round(item['analysis'][method]['bpm'])),  \n",
    "                    item['analysis']['durations']['length_samples'],\n",
    "                    item['analysis']['durations']['start_effective_duration'], \n",
    "                    item['analysis']['durations']['end_effective_duration']\n",
    "                )\n",
    "                n_annotated += 1\n",
    "            except KeyError:\n",
    "                continue\n",
    "print 'done! \\n%i annotations done' % n_annotated\n",
    "if n_annotated == 0:\n",
    "    print 'It looks like no instances have been annotated. Make sure that the dataset has been properly analysed.'"
   ]
  },
  {
   "cell_type": "code",
   "execution_count": 5,
   "metadata": {
    "collapsed": false,
    "scrolled": false
   },
   "outputs": [
    {
     "name": "stdout",
     "output_type": "stream",
     "text": [
      "\n",
      "Confidence vs tempo estimation accuracy (TOYDS)\n",
      "-----------------------------------------------\n",
      "\n"
     ]
    },
    {
     "data": {
      "image/png": "[encoded data removed]",
      "text/plain": [
       "<matplotlib.figure.Figure at 0x1100d9410>"
      ]
     },
     "metadata": {},
     "output_type": "display_data"
    },
    {
     "data": {
      "text/markdown": [
       "**Figure 2 - TOYDS **: Accuracy vs confidence measure for TOYDS dataset. Lower bounds of the \n",
       "    filled areas correspond to Accuracy 1e, while upper bounds correspond to Accuracy 2. Solid lines represent \n",
       "    the number of instances remaining in the dataset.\n",
       "    "
      ],
      "text/plain": [
       "<IPython.core.display.Markdown object>"
      ]
     },
     "metadata": {},
     "output_type": "display_data"
    }
   ],
   "source": [
    "# Now do all the plotting\n",
    "\n",
    "for dataset in datasets:\n",
    "    fig, ax1 = plt.subplots(1, 1, figsize=(14, 6))\n",
    "    ax2 = ax1.twinx()\n",
    "\n",
    "    for count, method in enumerate(['Percival14', 'Degara12', 'Zapata14']):\n",
    "        accuracies_1e = list()\n",
    "        accuracies_1 = list()\n",
    "        accuracies_2 = list()\n",
    "        counts = list()\n",
    "        steps = np.linspace(0, 1, 60)\n",
    "        for conf_min in steps:\n",
    "            try:\n",
    "                filtered_data = dataset.filter_data([('analysis.%s.%s__>=' % (method, 'confidence_ffont'), conf_min)]).data\n",
    "                accuracies_1e.append(100 * basic_statistics(accuracy1e(filtered_data, method))['avg'])\n",
    "                accuracies_1.append(100 * basic_statistics(accuracy1(filtered_data, method))['avg'])\n",
    "                accuracies_2.append(100 * basic_statistics(accuracy2(filtered_data, method))['avg'])\n",
    "                counts.append(len(filtered_data))\n",
    "            except IndexError:\n",
    "                raise Exception(\"Unable to compute basic statistics. Make sure that there is data available...\")\n",
    "                \n",
    "        ax1.plot(steps, accuracies_1e, color=COLORS[count], ls=\"--\")\n",
    "        ax1.plot(steps, accuracies_2, color=COLORS[count], ls=\"--\")\n",
    "        ax1.fill_between(steps, accuracies_1e, accuracies_2, color=COLORS[count], alpha=0.2)\n",
    "        ax2.plot(steps, counts, color=COLORS[count], label=method)\n",
    "\n",
    "    print title('Confidence vs tempo estimation accuracy (%s)' % dataset.short_name)\n",
    "    ax1.set_ylabel('Accuracy (%)')\n",
    "    ax1.set_xlabel('$\\gamma$')\n",
    "    ax2.set_ylabel('Number of instances')\n",
    "    ax2.legend(loc=3)\n",
    "    ax1.set_ylim((0, 100))\n",
    "    ax1.set_yticks([float(ax1.get_ylim()[1])*(float(i)/5) for i in range(0,6)])\n",
    "    ax2.set_ylim(0.0, ax2.get_ylim()[1])\n",
    "    ax2.set_yticks([float(ax2.get_ylim()[1])*(float(i)/5) for i in range(0,6)])\n",
    "    ax1.vlines(0.95, 0, 100, color='#999999')  # 95% confidence threshold\n",
    "    plt.show()\n",
    "    figure_caption = \"\"\"**Figure 2 - %s **: Accuracy vs confidence measure for %s dataset. Lower bounds of the \n",
    "    filled areas correspond to Accuracy 1e, while upper bounds correspond to Accuracy 2. Solid lines represent \n",
    "    the number of instances remaining in the dataset.\n",
    "    \"\"\" % (dataset.short_name, dataset.short_name)\n",
    "    IPython.display.display(IPython.display.Markdown(figure_caption))"
   ]
  },
  {
   "cell_type": "markdown",
   "metadata": {},
   "source": [
    "### Accuracy results for confidence > 95%\n",
    "\n",
    "Filtering by the confidence measure, a potential user searching for loops in a dataset could define a minimum threshold to get more accurate results at the expense of getting less loops returned. \n",
    "For instance, if we set a hard confidence threshold of $\\gamma=0.95$, we find that the accuracies for Percival14 method range, on average, from 67% (Accuracy 1e) to 92% (Accuracy 2) while preserving an average of 52% of the instances. \n",
    "Interestingly enough, we observe that when setting that hard threshold, reported RekBox accuracies outperform these of Percival14 in all datasets, with an average increase ranging from 2% for Accuracy 2 to 14% for Accuracy 1e (all statistically significant with $p \\ll 0.01$). \n",
    "\n",
    "We attribute this to the fact that RekBox seems to have a built-in confidence measure thresholding step in which the algorithm outputs 0 BPM when the analysis does not meet certain confidence requirements. Therefore, once filtering the datasets by $\\gamma$ (even with small values), all those instances whose BPM estimation is 0 BPM get discarded. Nevertheless, it is also important to note that filtering with the hard threshold, RekBox only preserves an average of 31% of the instances (lower than the 52% reported above by Percival14)."
   ]
  },
  {
   "cell_type": "code",
   "execution_count": 6,
   "metadata": {
    "collapsed": false
   },
   "outputs": [
    {
     "name": "stdout",
     "output_type": "stream",
     "text": [
      "Unable to compute results for method Gkiokasq8 and dataset TOYDS\n",
      "\n",
      "Method       TOYDS                       \n",
      "-----------------------------------------\n",
      "Percival14   A=57.14 - 100.00%, N=70%    \n",
      "Zapata14     A=100.00 - 100.00%, N=40%   \n",
      "Degara12     A=100.00 - 100.00%, N=20%   \n",
      "Bock15       A=60.00 - 100.00%, N=50%    \n",
      "Gkiokasq8    -                           \n",
      "RekBox       A=80.00 - 100.00%, N=50%    \n"
     ]
    },
    {
     "name": "stderr",
     "output_type": "stream",
     "text": [
      "/usr/local/lib/python2.7/site-packages/numpy/core/_methods.py:59: RuntimeWarning: Mean of empty slice.\n",
      "  warnings.warn(\"Mean of empty slice.\", RuntimeWarning)\n",
      "/usr/local/lib/python2.7/site-packages/numpy/core/_methods.py:82: RuntimeWarning: Degrees of freedom <= 0 for slice\n",
      "  warnings.warn(\"Degrees of freedom <= 0 for slice\", RuntimeWarning)\n"
     ]
    }
   ],
   "source": [
    "# Accuracy for for confidence threshold > 95%\n",
    "conf_threshold = 0.95\n",
    "table_header = ['Method'] + [dataset.short_name for dataset in datasets]\n",
    "table_rows = list()\n",
    "for method in methods_to_compare:\n",
    "    table_row = list()\n",
    "    table_row.append(method)\n",
    "    for dataset in datasets:\n",
    "        try:\n",
    "            filtered_data = dataset.filter_data([('analysis.%s.%s__>=' % (method, 'confidence_ffont'), conf_threshold)]).data\n",
    "            min_acc = 100 * basic_statistics(accuracy1e(filtered_data, method))['avg']\n",
    "            max_acc = 100 * basic_statistics(accuracy2(filtered_data, method))['avg']\n",
    "        except IndexError:\n",
    "            print 'Unable to compute results for method %s and dataset %s' % (method, dataset.short_name)\n",
    "            table_row.append('-')\n",
    "            continue\n",
    "        table_row.append('A=%.2f - %.2f%%, N=%.0f%%' % (min_acc, max_acc, 100 * float(len(filtered_data))/len(dataset.data)))\n",
    "    table_rows.append(table_row)\n",
    "print ''\n",
    "print_table(table_header, table_rows)"
   ]
  },
  {
   "cell_type": "code",
   "execution_count": 7,
   "metadata": {
    "collapsed": false
   },
   "outputs": [
    {
     "name": "stdout",
     "output_type": "stream",
     "text": [
      "\n",
      "\n",
      "Statistical tests for dataset TOYDS\n",
      "-----------------------------------\n",
      "\n",
      "\n",
      "Measure: accuracy1e\n",
      "             Percival14   Zapata14   Degara12   Bock15   Gkiokasq8   RekBox   \n",
      "------------------------------------------------------------------------------\n",
      "Percival14   -            0.617      0.617      1        0.134       0.683    \n",
      "Zapata14     0.48         -          0.248      0.48     0.134       1        \n",
      "Degara12     1            1          -          1        0.48        0*       \n",
      "Bock15       1            1          0.48       -        0.248       0*       \n",
      "Gkiokasq8    0*           0*         0*         0*       -           0*       \n",
      "RekBox       0.617        0.48       0.48       1        0.134       -        \n",
      "\n",
      "Measure: accuracy1\n",
      "             Percival14   Zapata14   Degara12   Bock15   Gkiokasq8   RekBox   \n",
      "------------------------------------------------------------------------------\n",
      "Percival14   -            1          1          0.683    0.134       1        \n",
      "Zapata14     0.48         -          0.48       1        0.134       0*       \n",
      "Degara12     1            0*         -          0*       0.48        0*       \n",
      "Bock15       1            0*         1          -        0.248       0*       \n",
      "Gkiokasq8    0*           0*         0*         0*       -           0*       \n",
      "RekBox       0.248        0*         0.48       1        0.0736      -        \n",
      "\n",
      "Measure: accuracy2\n",
      "             Percival14   Zapata14   Degara12   Bock15   Gkiokasq8   RekBox   \n",
      "------------------------------------------------------------------------------\n",
      "Percival14   -            1          0.248      1        0.0233      0.48     \n",
      "Zapata14     0*           -          0.48       1        0.134       0*       \n",
      "Degara12     0*           0*         -          0*       0.48        0*       \n",
      "Bock15       0*           1          0.48       -        0.0736      0.48     \n",
      "Gkiokasq8    0*           0*         0*         0*       -           0*       \n",
      "RekBox       0*           0*         0.48       1        0.0736      -        \n"
     ]
    }
   ],
   "source": [
    "# Run pairwise statistical tests when filtering by 95% confidence\n",
    "alpha = 0.01\n",
    "conf_threshold = 0.95\n",
    "\n",
    "def compute_mcnemar_test(method1_data, method2_data):\n",
    "    stat, pvalue = mcnemar(method1_data, method2_data, exact=False)\n",
    "    if pvalue < alpha:\n",
    "        return \"%.3g*\" % pvalue\n",
    "    return \"%.3g\" % pvalue\n",
    "\n",
    "for count, dataset in enumerate(datasets):\n",
    "    print \"\"\n",
    "    print title('Statistical tests for dataset %s' % dataset.short_name)    \n",
    "    for accuracy_func in accuracy1e, accuracy1, accuracy2:\n",
    "        print '\\nMeasure: %s' % accuracy_func.__name__\n",
    "        table_header = [' '] + [method for method in methods_to_compare]\n",
    "        table_rows = list()\n",
    "        for method_a in methods_to_compare:\n",
    "            table_row = list()\n",
    "            for method_b in methods_to_compare:\n",
    "                if method_a != method_b:\n",
    "                    filtered_data_a = dataset.filter_data([('analysis.%s.%s__>=' % (method_a, 'confidence_ffont'), conf_threshold)]).data\n",
    "                    filtered_data_b = dataset.filter_data([('analysis.%s.%s__>=' % (method_a, 'confidence_ffont'), conf_threshold)]).data\n",
    "                    result = compute_mcnemar_test(accuracy_func(filtered_data_a, method_a), accuracy_func(filtered_data_b, method_b))\n",
    "                    table_row.append(result)\n",
    "                else:\n",
    "                    table_row.append('-')\n",
    "            table_rows.append([method_a] + table_row)\n",
    "        print_table(table_header, table_rows)"
   ]
  },
  {
   "cell_type": "markdown",
   "metadata": {},
   "source": [
    "## Combined accuracy and confidence measure\n",
    "\n",
    "Besides the overall accuracy measurements, we are also interested in observing how accuracy varies according to the confidence values that we estimate.\n",
    "We can intuitively imagine that if we filter our datasets and only keep loops whose estimated confidence for the BPM prediction is above a certain confidence threshold, the overall accuracy results will increase. \n",
    "However, the higher we set the minimum confidence threshold, the smaller the size of filtered dataset will be.\n",
    "Hence, we want to quantify the relation between the overall accuracy and the total number of music loops that remain in a dataset after filtering by minimum confidence.\n",
    "To do that, given one of the aforementioned accuracy measures, we can define a minimum confidence threshold $\\gamma$ and a function $A(\\gamma)$ that represents overall BPM estimation accuracy when only evaluating loop instances whose estimated confidence value is above $\\gamma$ for a given dataset and tempo estimation algorithm.\n",
    "Similarly, we can define another function $N(\\gamma)$ which returns the percentage of instances remaining in a dataset after filtering out those whose estimated confidence value (for a given tempo estimation method) is below $\\gamma$. $A(\\gamma)$ and $N(\\gamma)$ can be understood as standard precision and recall curves, and therefore we can define a combined score measure $S(\\gamma)$ doing the analogy with an f-measure computation:\n",
    "\n",
    "$$ S(\\gamma) = 2 \\cdot \\frac{A(\\gamma) \\cdot N(\\gamma)}{A(\\gamma) + N(\\gamma)}.$$\n",
    "\n",
    "An overall score for a given dataset, tempo estimation algorithm and accuracy measure can thus be given by taking the mean of $S(\\gamma)$, $\\bar S$. After computing $\\bar S$ with our data, we again find that Percival14 obtains the best score in all datasets and for all accuracy measures (i.e.~for $A(\\gamma)$ computed with Accuracy 1e, Accuracy 1 or Accuracy 2). This means that Percival14 offers the overall best balance between estimation accuracy and number of preserved instances in the dataset when filtering by a minimum confidence threshold."
   ]
  },
  {
   "cell_type": "code",
   "execution_count": 8,
   "metadata": {
    "collapsed": false
   },
   "outputs": [
    {
     "name": "stdout",
     "output_type": "stream",
     "text": [
      "\n",
      "Combined score results for accuracy1e\n",
      "-------------------------------------\n",
      "\n",
      "Method       TOYDS   \n",
      "---------------------\n",
      "RekBox       \u001b[36m0.62    \u001b[0m\n",
      "Zapata14     0.60    \n",
      "Percival14   0.59    \n",
      "Bock15       0.49    \n",
      "Degara12     0.40    \n",
      "Gkiokasq8    0.00    \n",
      "\n",
      "Combined score results for accuracy1\n",
      "------------------------------------\n",
      "\n",
      "Method       TOYDS   \n",
      "---------------------\n",
      "RekBox       \u001b[36m0.72    \u001b[0m\n",
      "Zapata14     0.68    \n",
      "Bock15       0.64    \n",
      "Percival14   0.59    \n",
      "Degara12     0.50    \n",
      "Gkiokasq8    0.00    \n",
      "\n",
      "Combined score results for accuracy2\n",
      "------------------------------------\n",
      "\n",
      "Method       TOYDS   \n",
      "---------------------\n",
      "Percival14   \u001b[36m0.85    \u001b[0m\n",
      "Bock15       0.79    \n",
      "Zapata14     0.75    \n",
      "RekBox       0.72    \n",
      "Degara12     0.58    \n",
      "Gkiokasq8    0.00    \n"
     ]
    }
   ],
   "source": [
    "# NOTE: To run this cell, confidence measures need to be computed first (see cells above)\n",
    "\n",
    "def overall_method_score(accuracies, counts, dataset_size):\n",
    "    \"\"\"\n",
    "    We normalize the counts to the dataset size so scores provided by datasets of different sizes are comparable.\n",
    "    We also normalize accuracy values to go from 0 to 1 instead of from 0 to 100.\n",
    "    Finally we divide the result by the number of bins of the histogram so that using histograms of different resolution\n",
    "    should return similar results.\n",
    "    \"\"\"\n",
    "    overall_score = 0.0\n",
    "    length = len(counts)  # Should be the same as len(accuracies)\n",
    "    for i in range(length):\n",
    "        overall_score += 2 * ((float(counts[i])/dataset_size) * (float(accuracies[i])/100)) / ((float(counts[i])/dataset_size) + (float(accuracies[i])/100))\n",
    "    return overall_score/length\n",
    "\n",
    "for accuracy_func in accuracy1e, accuracy1, accuracy2:\n",
    "    print title('Combined score results for %s' % accuracy_func.__name__)\n",
    "    table_header = ['Method'] + [dataset.short_name for dataset in datasets]\n",
    "    table_rows = list()\n",
    "    for method in methods_to_compare:\n",
    "        table_row = list()\n",
    "        table_row.append(method)\n",
    "        for dataset in datasets:\n",
    "            accuracies = list()\n",
    "            counts = list()\n",
    "            steps = np.linspace(0, 1, 60)\n",
    "            for conf_min in steps:\n",
    "                try:\n",
    "                    filtered_data = dataset.filter_data([('analysis.%s.%s__>=' % (method, 'confidence_ffont'), conf_min)]).data\n",
    "                    if filtered_data:\n",
    "                        accuracies.append(100 * basic_statistics(accuracy_func(filtered_data, method))['avg'])\n",
    "                    else:\n",
    "                        accuracies.append(0.00000001)  # Use very small number to avoid division by 0, in any case counts will be 0 to so overall_score will be 0\n",
    "                    counts.append(len(filtered_data))\n",
    "                except IndexError:\n",
    "                    raise Exception(\"Unable to compute basic statistics. Make sure that there is data available...\")\n",
    "            score = overall_method_score(accuracies, counts, dataset_size=len(dataset.data))\n",
    "            table_row.append(score)\n",
    "        table_rows.append(table_row)\n",
    "    print_table(table_header, table_rows, sort_column=1, highlight_max=True)"
   ]
  },
  {
   "cell_type": "markdown",
   "metadata": {},
   "source": [
    "## Comparisson with confidence measure from Zapata14\n",
    "\n",
    "Zapata et. al. [2] propose a confidence measure based on computing the mutual agreement between an ensemble of tempo estimation algorithms that take different sets of input features.\n",
    "To make this confidence measure comparable to the one we propose, we normalise the confidence output of Zapata et. al. to take values form 0 to 1.\n",
    "Similarly to Figure 2, we plot the estimation accuracy and the number of remaining instances as a function of a minimum confidence threshold $\\gamma$ (Figure 3 in the cells below). \n",
    "We observe that Zapata's confidence measure allows to achieve accuracies which are around 15% higher than when using our confidence. However, the number of remaining instances in the dataset is drastically reduced, and accuracy values for $\\gamma > 0.75$ become incosistent. \n",
    "Looking at the $\\bar S$ score, we find that Zapata14 in combination with our confidence measure gets better results than when using the original measure, with an average $\\bar S$ increase of 17%, 29% and 31% (for the three accuracy measures Accuracy 1e, Accuracy 1 and Accuracy 2 respectively). \n",
    "This indicates that the confidence measure we propose is able to better maximise accuracy and number of remaining instances.\n",
    "\n",
    "[2] Jose R Zapata, Andre Holzapfel, Matthew EP Davied, Joao L Oliveira, and Fabien Gouyon. Assigning a \n",
    "Confidence Threshold on Automatic Beat Annotation in Large Datasets. In Proc. of the Int. Conf. on Music \n",
    "Information Retrieval (ISMIR), number Ismir, pages 157-162, 2012."
   ]
  },
  {
   "cell_type": "code",
   "execution_count": 9,
   "metadata": {
    "collapsed": false,
    "scrolled": false
   },
   "outputs": [
    {
     "name": "stdout",
     "output_type": "stream",
     "text": [
      "\n",
      "Confidence vs tempo estimation accuracy (TOYDS)\n",
      "-----------------------------------------------\n",
      "\n"
     ]
    },
    {
     "data": {
      "image/png": "[encoded data removed]",
      "text/plain": [
       "<matplotlib.figure.Figure at 0x1104058d0>"
      ]
     },
     "metadata": {},
     "output_type": "display_data"
    },
    {
     "data": {
      "text/markdown": [
       "**Figure 3 - TOYDS **: Comparison of our proposed confidence measure with the confidence \n",
       "    measure proposed in [2] for TOYDS dataset and Zapata14 tempo estimation algorithm.\n",
       "    "
      ],
      "text/plain": [
       "<IPython.core.display.Markdown object>"
      ]
     },
     "metadata": {},
     "output_type": "display_data"
    }
   ],
   "source": [
    "# Normalize confidence measure for Zapata14 so that numbers go from 0 to 1 and it is\n",
    "# comparable with our confidence measure. We get the maximum and minimum value found in the dataset \n",
    "# and normalise the confidence to be in the [0, 1] range.\n",
    "for dataset in datasets:    \n",
    "    # Annotate all methods wirh confidence measures using the function above\n",
    "    zapata_conf_values = dataset.get_data('analysis.Zapata14.confidence')\n",
    "    if not zapata_conf_values:\n",
    "        raise Exception('No information for Zapata14 method in dataset %s' % dataset.short_name)\n",
    "    max_value = max(zapata_conf_values)\n",
    "    min_value = min(zapata_conf_values)\n",
    "    for key, item in dataset.data.items():\n",
    "        try:\n",
    "            normalised_value = float(item['analysis']['Zapata14']['confidence'] - min_value)/(max_value - min_value)\n",
    "            item['analysis']['Zapata14']['confidence_zapata'] = normalised_value\n",
    "        except KeyError:\n",
    "            continue\n",
    "            \n",
    "CONFIDENCE_MEASURE_NAMES = {\n",
    "    'confidence_ffont': 'Our confidence measure',\n",
    "    'confidence_zapata': 'Original confidence measure'\n",
    "}\n",
    "        \n",
    "for dataset in datasets:\n",
    "    fig, ax1 = plt.subplots(1, 1, figsize=(14, 6))\n",
    "    ax2 = ax1.twinx()\n",
    "    methods_and_conf_to_compare = [('Zapata14', 'confidence_ffont'), \n",
    "                                   ('Zapata14', 'confidence_zapata')]\n",
    "   \n",
    "    for count, (method, conf_method) in enumerate(methods_and_conf_to_compare):\n",
    "        accuracies_1e = list()\n",
    "        accuracies_1 = list()\n",
    "        accuracies_2 = list()\n",
    "        counts = list()\n",
    "        steps = np.linspace(0, 1, 60)\n",
    "        for conf_min in steps:\n",
    "            try:\n",
    "                filtered_data = dataset.filter_data([('analysis.%s.%s__>=' % (method, conf_method), conf_min)]).data\n",
    "                accuracies_1e.append(100 * basic_statistics(accuracy1e(filtered_data, method))['avg'])\n",
    "                accuracies_1.append(100 * basic_statistics(accuracy1(filtered_data, method))['avg'])\n",
    "                accuracies_2.append(100 * basic_statistics(accuracy2(filtered_data, method))['avg'])\n",
    "                counts.append(len(filtered_data))\n",
    "            except IndexError:\n",
    "                raise Exception(\"Unable to compute basic statistics. Make sure that there is data available...\")\n",
    "        \n",
    "        ax1.plot(steps, accuracies_1e, color=COLORS[count], ls=\"--\")\n",
    "        ax1.plot(steps, accuracies_2, color=COLORS[count], ls=\"--\")\n",
    "        ax1.fill_between(steps, accuracies_1e, accuracies_2, \n",
    "                         color=COLORS[count], alpha=0.2)\n",
    "        ax2.plot(steps, counts, color=COLORS[count], label=\"%s - %s\" % (method, CONFIDENCE_MEASURE_NAMES[conf_method]))\n",
    "\n",
    "    print title('Confidence vs tempo estimation accuracy (%s)' % dataset.short_name)\n",
    "    ax1.set_ylabel('Accuracy (%)')\n",
    "    ax1.set_xlabel('$\\gamma$')\n",
    "    ax2.set_ylabel('Number of instances')\n",
    "    ax2.legend(loc=3)\n",
    "    ax1.set_ylim((0, 100))\n",
    "    ax1.set_yticks([float(ax1.get_ylim()[1])*(float(i)/5) for i in range(0,6)])\n",
    "    ax2.set_ylim(0.0, ax2.get_ylim()[1])\n",
    "    ax2.set_yticks([float(ax2.get_ylim()[1])*(float(i)/5) for i in range(0,6)])\n",
    "    plt.show()\n",
    "    figure_caption = \"\"\"**Figure 3 - %s **: Comparison of our proposed confidence measure with the confidence \n",
    "    measure proposed in [2] for %s dataset and Zapata14 tempo estimation algorithm.\n",
    "    \"\"\" % (dataset.short_name, dataset.short_name)\n",
    "    IPython.display.display(IPython.display.Markdown(figure_caption))"
   ]
  },
  {
   "cell_type": "code",
   "execution_count": 10,
   "metadata": {
    "collapsed": false
   },
   "outputs": [
    {
     "name": "stdout",
     "output_type": "stream",
     "text": [
      "\n",
      "Combined score results for accuracy1e\n",
      "-------------------------------------\n",
      "\n",
      "Method - Conf method           TOYDS   \n",
      "---------------------------------------\n",
      "Zapata14 - confidence_ffont    \u001b[36m0.55    \u001b[0m\n",
      "Zapata14 - confidence_zapata   0.53    \n",
      "\n",
      "Combined score results for accuracy1\n",
      "------------------------------------\n",
      "\n",
      "Method - Conf method           TOYDS   \n",
      "---------------------------------------\n",
      "Zapata14 - confidence_ffont    \u001b[36m0.67    \u001b[0m\n",
      "Zapata14 - confidence_zapata   0.59    \n",
      "\n",
      "Combined score results for accuracy2\n",
      "------------------------------------\n",
      "\n",
      "Method - Conf method           TOYDS   \n",
      "---------------------------------------\n",
      "Zapata14 - confidence_ffont    \u001b[36m0.73    \u001b[0m\n",
      "Zapata14 - confidence_zapata   0.59    \n"
     ]
    }
   ],
   "source": [
    "# Compute combined scores for Zapata14 method using confidence_ffont or confidence_zapata\n",
    "# NOTE: to run this cell 'overall_method_score' must have been defined (see cells above)\n",
    "\n",
    "methods_and_conf_to_compare = [('Zapata14', 'confidence_ffont'), \n",
    "                               ('Zapata14', 'confidence_zapata')]\n",
    "for accuracy_func in accuracy1e, accuracy1, accuracy2:\n",
    "    print title('Combined score results for %s' % accuracy_func.__name__)\n",
    "    table_header = ['Method - Conf method'] + [dataset.short_name for dataset in datasets]\n",
    "    table_rows = list()\n",
    "    for method, conf_method in methods_and_conf_to_compare:\n",
    "        table_row = list()\n",
    "        table_row.append('%s - %s' % (method, conf_method))\n",
    "        for dataset in datasets:\n",
    "            accuracies = list()\n",
    "            counts = list()\n",
    "            steps = np.linspace(0, 1, 60)\n",
    "            for conf_min in steps:\n",
    "                try:\n",
    "                    filtered_data = dataset.filter_data([('analysis.%s.%s__>=' % (method, conf_method), conf_min)]).data\n",
    "                    if filtered_data:\n",
    "                        accuracies.append(100 * basic_statistics(accuracy_func(filtered_data, method))['avg'])\n",
    "                    else:\n",
    "                        accuracies.append(0.00000001)  # Use very small number to avoid division by 0, in any case counts will be 0 to so overall_score will be 0\n",
    "                    accuracies.append(100 * basic_statistics(accuracy_func(filtered_data, method))['avg'])\n",
    "                    counts.append(len(filtered_data))\n",
    "                except IndexError:\n",
    "                    raise Exception(\"Unable to compute basic statistics. Make sure that there is data available...\")\n",
    "            score = overall_method_score(accuracies, counts, dataset_size=len(dataset.data))\n",
    "            table_row.append(score)\n",
    "        table_rows.append(table_row)\n",
    "    print_table(table_header, table_rows, sort_column=1, highlight_max=True)"
   ]
  },
  {
   "cell_type": "code",
   "execution_count": null,
   "metadata": {
    "collapsed": true
   },
   "outputs": [],
   "source": []
  }
 ],
 "metadata": {
  "kernelspec": {
   "display_name": "Python 2",
   "language": "python",
   "name": "python2"
  },
  "language_info": {
   "codemirror_mode": {
    "name": "ipython",
    "version": 2
   },
   "file_extension": ".py",
   "mimetype": "text/x-python",
   "name": "python",
   "nbconvert_exporter": "python",
   "pygments_lexer": "ipython2",
   "version": "2.7.10"
  }
 },
 "nbformat": 4,
 "nbformat_minor": 0
}
